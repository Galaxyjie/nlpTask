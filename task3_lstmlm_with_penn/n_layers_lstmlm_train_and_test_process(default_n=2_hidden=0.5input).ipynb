{
 "cells": [
  {
   "cell_type": "markdown",
   "metadata": {},
   "source": [
    "hidden_size=input_size/2 本例中, 第0层hidden_size=emb_size/2=64, 第1层hidden_size=64/2=32"
   ]
  },
  {
   "cell_type": "code",
   "execution_count": null,
   "metadata": {},
   "outputs": [],
   "source": [
    "!python n_layers_lstmlm_with_penn_assignment(default_n=2_hidden=0.5input).py"
   ]
  }
 ],
 "metadata": {
  "kernelspec": {
   "display_name": "Python 3.9.12 ('torch111')",
   "language": "python",
   "name": "python3"
  },
  "language_info": {
   "codemirror_mode": {
    "name": "ipython",
    "version": 3
   },
   "file_extension": ".py",
   "mimetype": "text/x-python",
   "name": "python",
   "nbconvert_exporter": "python",
   "pygments_lexer": "ipython3",
   "version": "3.9.12"
  },
  "orig_nbformat": 4,
  "vscode": {
   "interpreter": {
    "hash": "7d4a78585e453c285cdcd9b397bf3fdbf88591a79b8f78f641dda4ea59398329"
   }
  }
 },
 "nbformat": 4,
 "nbformat_minor": 2
}
